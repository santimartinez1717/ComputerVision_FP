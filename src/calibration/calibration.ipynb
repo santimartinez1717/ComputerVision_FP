{
 "cells": [
  {
   "cell_type": "code",
   "execution_count": 2,
   "metadata": {},
   "outputs": [
    {
     "ename": "ImportError",
     "evalue": "attempted relative import with no known parent package",
     "output_type": "error",
     "traceback": [
      "\u001b[0;31m---------------------------------------------------------------------------\u001b[0m",
      "\u001b[0;31mImportError\u001b[0m                               Traceback (most recent call last)",
      "Cell \u001b[0;32mIn[2], line 7\u001b[0m\n\u001b[1;32m      5\u001b[0m \u001b[38;5;28;01mfrom\u001b[39;00m \u001b[38;5;21;01mtyping\u001b[39;00m \u001b[38;5;28;01mimport\u001b[39;00m List\n\u001b[1;32m      6\u001b[0m \u001b[38;5;28;01mfrom\u001b[39;00m \u001b[38;5;21;01mcalibration_functions\u001b[39;00m \u001b[38;5;28;01mimport\u001b[39;00m \u001b[38;5;241m*\u001b[39m\n\u001b[0;32m----> 7\u001b[0m \u001b[38;5;28;01mfrom\u001b[39;00m \u001b[38;5;21;01m.\u001b[39;00m\u001b[38;5;21;01m.\u001b[39;00m\u001b[38;5;21;01mimage_functions\u001b[39;00m \u001b[38;5;28;01mimport\u001b[39;00m \u001b[38;5;241m*\u001b[39m\n",
      "\u001b[0;31mImportError\u001b[0m: attempted relative import with no known parent package"
     ]
    }
   ],
   "source": [
    "import cv2\n",
    "import numpy as np\n",
    "import imageio\n",
    "import copy\n",
    "from typing import List\n",
    "from calibration_functions import *\n",
    "from image_functions import *"
   ]
  },
  {
   "cell_type": "code",
   "execution_count": null,
   "metadata": {},
   "outputs": [],
   "source": [
    "left_camera = 'left'\n",
    "right_camera = 'right'"
   ]
  },
  {
   "cell_type": "code",
   "execution_count": null,
   "metadata": {},
   "outputs": [],
   "source": [
    "\n",
    "imgs_path = glob.glob(f'../assets/calibration_imgs/{left_camera}/*.jpg')\n",
    "imgs = load_images(imgs_path)\n"
   ]
  },
  {
   "cell_type": "code",
   "execution_count": null,
   "metadata": {},
   "outputs": [],
   "source": [
    "# Find corners with cv2.findChessboardCorners()\n",
    "chessboard_shape = (8, 6)  # Tamaño interno del tablero de ajedrez (esquinas internas)\n",
    "corners = [cv2.findChessboardCorners(img, chessboard_shape, None) for img in imgs]\n",
    "\n",
    "corners_copy = copy.deepcopy(corners)\n",
    "criteria = (cv2.TERM_CRITERIA_EPS + cv2.TERM_CRITERIA_MAX_ITER, 30, 0.01)\n"
   ]
  },
  {
   "cell_type": "code",
   "execution_count": null,
   "metadata": {},
   "outputs": [],
   "source": [
    "imgs_gray = [cv2.cvtColor(img, cv2.COLOR_BGR2GRAY) for img in imgs]\n",
    "\n",
    "# Refinar detección de esquinas\n",
    "corners_refined = [cv2.cornerSubPix(gray, cor[1], (11, 11), (-1, -1), criteria) if cor[0] else [] for gray, cor in zip(imgs_gray, corners_copy)]\n",
    "\n"
   ]
  },
  {
   "cell_type": "code",
   "execution_count": null,
   "metadata": {},
   "outputs": [],
   "source": [
    "# Dibujar esquinas en las imágenes\n",
    "imgs_w_corners = copy.deepcopy(imgs)\n",
    "for i, cor in enumerate(corners_refined):\n",
    "    if len(cor) > 0:\n",
    "        cv2.drawChessboardCorners(imgs_w_corners[i], chessboard_shape, cor, True)\n"
   ]
  },
  {
   "cell_type": "code",
   "execution_count": null,
   "metadata": {},
   "outputs": [],
   "source": [
    "# Mostrar las imágenes con esquinas dibujadas\n",
    "for i, img in enumerate(imgs_w_corners):\n",
    "    show_image(f\"Image {i + 1}\", img)\n",
    "    write_image(f\"../assets/calibration_imgs/chess_corners_{i + 1}.jpg\", img)"
   ]
  },
  {
   "cell_type": "code",
   "execution_count": null,
   "metadata": {},
   "outputs": [],
   "source": [
    "# Puntos del tablero\n",
    "chessboard_points = get_chessboard_points(chessboard_shape, 30, 30)\n",
    "\n",
    "\n",
    "# Filtrar datos y obtener solo las detecciones adecuadas\n",
    "valid_corners = [cor[1] for cor in corners if cor[0]]\n",
    "valid_corners = np.asarray(valid_corners, dtype=np.float32)\n",
    "\n",
    "# Preparar puntos de objeto y de imagen para la calibración\n",
    "objpoints = [chessboard_points for _ in range(len(valid_corners))]\n",
    "imgpoints = valid_corners"
   ]
  },
  {
   "cell_type": "code",
   "execution_count": null,
   "metadata": {},
   "outputs": [],
   "source": [
    "# Calibrar la cámara\n",
    "rms, intrinsics, dist_coeffs, rvecs, tvecs = cv2.calibrateCamera(objpoints, imgpoints, imgs_gray[0].shape[::-1], None, None)\n",
    "\n",
    "# Obtener extrínsecos\n",
    "extrinsics = [np.hstack((cv2.Rodrigues(rvec)[0], tvec)) for rvec, tvec in zip(rvecs, tvecs)]\n",
    "\n",
    "# Imprimir resultados\n",
    "print(\"Intrinsics:\\n\", intrinsics)\n",
    "print(\"Distortion coefficients:\\n\", dist_coeffs)\n",
    "print(\"Root mean squared reprojection error:\\n\", rms)\n",
    "\n",
    "# Guardar resultados de la calibración\n",
    "np.savez(\"calibration_data_left_camera.npz\", intrinsics=intrinsics, dist_coeffs=dist_coeffs, rvecs=rvecs, tvecs=tvecs)\n",
    "\n"
   ]
  }
 ],
 "metadata": {
  "kernelspec": {
   "display_name": "Python 3",
   "language": "python",
   "name": "python3"
  },
  "language_info": {
   "codemirror_mode": {
    "name": "ipython",
    "version": 3
   },
   "file_extension": ".py",
   "mimetype": "text/x-python",
   "name": "python",
   "nbconvert_exporter": "python",
   "pygments_lexer": "ipython3",
   "version": "3.11.8"
  }
 },
 "nbformat": 4,
 "nbformat_minor": 2
}
